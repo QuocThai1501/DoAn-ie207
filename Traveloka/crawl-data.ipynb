{
 "cells": [
  {
   "cell_type": "markdown",
   "id": "608b1782",
   "metadata": {},
   "source": [
    "## I. Import thư viện"
   ]
  },
  {
   "cell_type": "code",
   "execution_count": 16,
   "id": "e42174c7",
   "metadata": {},
   "outputs": [],
   "source": [
    "from selenium import webdriver\n",
    "from selenium.webdriver.common.by import By\n",
    "from selenium.webdriver.chrome.options import Options\n",
    "from selenium.webdriver.support.ui import WebDriverWait\n",
    "from selenium.webdriver.support import expected_conditions as EC\n",
    "from bs4 import BeautifulSoup\n",
    "import csv\n",
    "import time\n",
    "import random\n",
    "from tqdm import tqdm\n",
    "import pandas as pd"
   ]
  },
  {
   "cell_type": "markdown",
   "id": "f1109ddf",
   "metadata": {},
   "source": [
    "## II. Lấy các URL từ Chrome"
   ]
  },
  {
   "cell_type": "code",
   "execution_count": 17,
   "id": "e9047004",
   "metadata": {},
   "outputs": [],
   "source": [
    "countries = ['vietnam', 'thailand', 'singapore', 'malaysia', 'indonesia', 'cambodia', 'philippines']\n",
    "\n",
    "countries_links = ['https://www.traveloka.com/vi-vn/hotel/' + country for country in countries]\n",
    "regions_links = []\n",
    "hotels_links = []"
   ]
  },
  {
   "cell_type": "markdown",
   "id": "41c685d8",
   "metadata": {},
   "source": [
    "### 1. Crawl link khách sạn theo quốc gia"
   ]
  },
  {
   "cell_type": "code",
   "execution_count": null,
   "id": "c60eb1ba",
   "metadata": {},
   "outputs": [],
   "source": [
    "driver = webdriver.Chrome()\n",
    "\n",
    "for country in countries:\n",
    "    country_link = f'https://www.traveloka.com/vi-vn/hotel/{country}'\n",
    "    driver.get(country_link)\n",
    "    time.sleep(5)\n",
    "\n",
    "    soup_country = BeautifulSoup(driver.page_source, 'html.parser')  # Lấy source HTML\n",
    "\n",
    "    for link in soup_country.find_all('a', class_='css-4rbku5', href=True):\n",
    "        href = link['href']\n",
    "        if href.startswith(f'/vi-vn/hotel/{country}'):\n",
    "            full_url = 'https://www.traveloka.com' + href\n",
    "\n",
    "            suffix = href[len(f'/vi-vn/hotel/{country}/'):]  # phần sau /vi-vn/hotel/{country}/\n",
    "            first_segment = suffix.split('/')[0]\n",
    "\n",
    "            if first_segment in ['region', 'area', 'city', 'landmark']:\n",
    "                if full_url not in regions_links:\n",
    "                    regions_links.append(full_url)\n",
    "            else:\n",
    "                if full_url not in hotels_links:\n",
    "                    hotels_links.append(full_url)      \n",
    "\n",
    "print(f'Tìm thấy {len(regions_links)} vùng khách sạn và {len(hotels_links)} khách sạn.')\n"
   ]
  },
  {
   "cell_type": "code",
   "execution_count": null,
   "id": "60d79e1f",
   "metadata": {},
   "outputs": [],
   "source": [
    "# regions_links.clear()\n",
    "# hotels_links.clear()"
   ]
  },
  {
   "cell_type": "markdown",
   "id": "086bc42a",
   "metadata": {},
   "source": [
    "### 2. Crawl link khách sạn theo phân vùng của mỗi quốc gia"
   ]
  },
  {
   "cell_type": "code",
   "execution_count": null,
   "id": "b3a0f12a",
   "metadata": {},
   "outputs": [],
   "source": [
    "# b. Crawl phân vùng những lần sau (chạy trước khi chạy cell dưới)\n",
    "\n",
    "# append data trong file regions_links.csv vào list regions_links\n",
    "with open('regions_links.csv', 'r', encoding='utf-8') as f:\n",
    "    reader = csv.reader(f)\n",
    "    next(reader)  # Bỏ dòng tiêu đề\n",
    "    for row in reader:\n",
    "        if row:\n",
    "            regions_links.append(row[0])\n",
    "\n",
    "# URL bắt đầu và kết thúc\n",
    "start_url = \"https://www.traveloka.com/vi-vn/hotel/malaysia/area/dengkil-108048\"\n",
    "end_url   = \"https://www.traveloka.com/vi-vn/hotel/philippines/city/lubao-10008325\"\n",
    "\n",
    "# Xác định vị trí index bắt đầu và kết thúc\n",
    "try:\n",
    "    start_index = regions_links.index(start_url)\n",
    "    end_index = regions_links.index(end_url)\n",
    "except ValueError as e:\n",
    "    print(\"Không tìm thấy URL trong danh sách:\", e)\n",
    "    exit()\n",
    "\n",
    "# Giới hạn danh sách cần crawl\n",
    "regions_links_to_crawl = regions_links[start_index:end_index + 1]"
   ]
  },
  {
   "cell_type": "code",
   "execution_count": null,
   "id": "204267ba",
   "metadata": {},
   "outputs": [],
   "source": [
    "# a. Crawl phân vùng (đổi thành in regions_links_to_crawl ở những lần crawl sau)\n",
    "\n",
    "driver = webdriver.Chrome()\n",
    "\n",
    "for region_link in regions_links_to_crawl: # lần đầu thì in regions_links\n",
    "    driver.get(region_link)\n",
    "    time.sleep(random.uniform(3,7))\n",
    "\n",
    "    soup_region = BeautifulSoup(driver.page_source, 'html.parser')  # Lấy source HTML\n",
    "\n",
    "    for link in soup_region.find_all('a', class_='css-4rbku5', href=True):\n",
    "        href = link['href']\n",
    "        if href.startswith(f'/vi-vn/hotel/'):\n",
    "            full_url = 'https://www.traveloka.com' + href\n",
    "\n",
    "            suffix = href[len(f'/vi-vn/hotel/'):]  # phần sau /vi-vn/hotel/{country}/\n",
    "            segments = suffix.split('/')\n",
    "\n",
    "            if len(segments) >=2:\n",
    "                if segments[1] in ['region', 'area', 'city', 'landmark']:\n",
    "                    if full_url not in regions_links:\n",
    "                        regions_links.append(full_url)\n",
    "                else:\n",
    "                    if full_url not in hotels_links:\n",
    "                        hotels_links.append(full_url)"
   ]
  },
  {
   "cell_type": "code",
   "execution_count": null,
   "id": "ab361e8f",
   "metadata": {},
   "outputs": [],
   "source": [
    "print('\\n'.join(regions_links))"
   ]
  },
  {
   "cell_type": "code",
   "execution_count": null,
   "id": "8bde2883",
   "metadata": {},
   "outputs": [],
   "source": [
    "# Ghi regions_links ra file CSV (sau mỗi lần crawl phân vùng khách sạn thì chạy lại)\n",
    "with open('regions_links.csv', 'w', newline='', encoding='utf-8') as f:\n",
    "    writer = csv.writer(f)\n",
    "    writer.writerow(['Region URL'])  # Tiêu đề cột\n",
    "    for link in regions_links:\n",
    "        writer.writerow([link])  # Mỗi link là một dòng"
   ]
  },
  {
   "cell_type": "code",
   "execution_count": null,
   "id": "54e63694",
   "metadata": {},
   "outputs": [],
   "source": [
    "# Ghi hotels_links ra file CSV (chỉ chạy khi crawl phân vùng lần đầu)\n",
    "with open('hotels_links.csv', 'w', newline='', encoding='utf-8') as f:\n",
    "    writer = csv.writer(f)\n",
    "    writer.writerow(['Hotel URL'])  # Tiêu đề cột\n",
    "    for link in hotels_links:\n",
    "        writer.writerow([link])  # Mỗi link là một dòng"
   ]
  },
  {
   "cell_type": "code",
   "execution_count": null,
   "id": "0a016df5",
   "metadata": {},
   "outputs": [],
   "source": [
    "# Ghi tiếp các URL mới vào hotels_links.csv (chạy khi crawl phân vùng những lần sau)\n",
    "with open('hotels_links.csv', 'a', newline='', encoding='utf-8') as f:\n",
    "    writer = csv.writer(f)\n",
    "    for url in hotels_links:\n",
    "        writer.writerow([url])"
   ]
  },
  {
   "cell_type": "code",
   "execution_count": null,
   "id": "b2c15d7a",
   "metadata": {},
   "outputs": [],
   "source": [
    "print('\\n'.join(hotels_links))"
   ]
  },
  {
   "cell_type": "markdown",
   "id": "ed4c94e4",
   "metadata": {},
   "source": [
    "### 3. Crawl link của từng khách sạn ở Việt Nam"
   ]
  },
  {
   "cell_type": "code",
   "execution_count": null,
   "id": "3ba0ff96",
   "metadata": {},
   "outputs": [],
   "source": [
    "# crawl khách sạn những lần sau (chạy trước khi chạy cell dưới)\n",
    "\n",
    "regions_links = []\n",
    "\n",
    "# append data trong file regions_links.csv vào list regions_links\n",
    "with open('regions_links.csv', 'r', encoding='utf-8') as f:\n",
    "    reader = csv.reader(f)\n",
    "    next(reader)  # Bỏ dòng tiêu đề\n",
    "    for row in reader:\n",
    "        if row:\n",
    "            regions_links.append(row[0])\n",
    "\n",
    "# URL bắt đầu và kết thúc (chỉ lấy của vietnam)\n",
    "start_url = \"https://www.traveloka.com/vi-vn/hotel/vietnam/city/bao-loc-city-10011056\"  # dòng thứ 5198 file regions_links.csv\n",
    "end_url   = \"https://www.traveloka.com/vi-vn/hotel/vietnam/area/ward-14-30010903/2\" # dòng thứ 5500 file regions_links.csv\n",
    "\n",
    "# Xác định vị trí index bắt đầu và kết thúc\n",
    "try:\n",
    "    start_index = regions_links.index(start_url)\n",
    "    end_index = regions_links.index(end_url)\n",
    "except ValueError as e:\n",
    "    print(\"Không tìm thấy URL trong danh sách:\", e)\n",
    "    exit()\n",
    "\n",
    "# Giới hạn danh sách cần crawl\n",
    "regions_links_to_crawl = regions_links[start_index:end_index + 1]"
   ]
  },
  {
   "cell_type": "code",
   "execution_count": null,
   "id": "11f4050e",
   "metadata": {},
   "outputs": [],
   "source": [
    "# crawl khách sạn (đổi thành in regions_links_to_crawl ở những lần crawl sau)\n",
    "\n",
    "vietnam_hotels_links = []\n",
    "\n",
    "driver = webdriver.Chrome()\n",
    "\n",
    "for region_link in regions_links_to_crawl: # lần đầu thì in regions_links\n",
    "    driver.get(region_link)\n",
    "    time.sleep(random.uniform(3,7))\n",
    "\n",
    "    soup = BeautifulSoup(driver.page_source, 'html.parser')  # Lấy source HTML\n",
    "\n",
    "    for link in soup.find_all('a', class_='css-4rbku5 r-13awgt0', href=True):\n",
    "        href = link['href']\n",
    "        if href.startswith(f'/vi-vn/hotel/'):\n",
    "            full_url = 'https://www.traveloka.com' + href\n",
    "\n",
    "        if full_url not in vietnam_hotels_links:\n",
    "            vietnam_hotels_links.append(full_url)"
   ]
  },
  {
   "cell_type": "code",
   "execution_count": null,
   "id": "e5c054ea",
   "metadata": {},
   "outputs": [],
   "source": [
    "print('\\n'.join(vietnam_hotels_links))"
   ]
  },
  {
   "cell_type": "code",
   "execution_count": null,
   "id": "424c0c8e",
   "metadata": {},
   "outputs": [],
   "source": [
    "# Ghi vietnam_hotels_links ra file CSV (chỉ chạy khi crawl khách sạn lần đầu)\n",
    "with open('vietnam_hotels_links.csv', 'w', newline='', encoding='utf-8') as f:\n",
    "    writer = csv.writer(f)\n",
    "    writer.writerow(['Hotel URL'])  # Tiêu đề cột\n",
    "    for link in vietnam_hotels_links:\n",
    "        writer.writerow([link])  # Mỗi link là một dòng"
   ]
  },
  {
   "cell_type": "code",
   "execution_count": null,
   "id": "0c8a8d01",
   "metadata": {},
   "outputs": [],
   "source": [
    "# Ghi tiếp các URL mới vào vietnam_hotels_links.csv (chạy khi crawl khách sạn những lần sau)\n",
    "with open('vietnam_hotels_links.csv', 'a', newline='', encoding='utf-8') as f:\n",
    "    writer = csv.writer(f)\n",
    "    for url in vietnam_hotels_links:\n",
    "        writer.writerow([url])"
   ]
  },
  {
   "cell_type": "markdown",
   "id": "365eb540",
   "metadata": {},
   "source": [
    "## III. Crawl các thuộc tính của khách sạn Việt Nam"
   ]
  },
  {
   "cell_type": "markdown",
   "id": "48326fdf",
   "metadata": {},
   "source": [
    "### 1. Gom các links khách sạn ở file hotels_links.csv và file vietnam_hotels_links.csv lại"
   ]
  },
  {
   "cell_type": "code",
   "execution_count": null,
   "id": "79bb534a",
   "metadata": {},
   "outputs": [],
   "source": [
    "all_links = []\n",
    "\n",
    "# append data trong file hotels_links.csv vào list all_links\n",
    "with open('hotels_links.csv', 'r', encoding='utf-8') as f:\n",
    "    reader = csv.reader(f)\n",
    "    next(reader)  # Bỏ dòng tiêu đề\n",
    "    for row in reader:\n",
    "        if row:\n",
    "            all_links.append(row[0])\n",
    "\n",
    "# lọc link khách sạn Việt Nam\n",
    "vietnam_links = [link for link in all_links if link.startswith(\"https://www.traveloka.com/vi-vn/hotel/vietnam\")]"
   ]
  },
  {
   "cell_type": "code",
   "execution_count": null,
   "id": "b76c3dbf",
   "metadata": {},
   "outputs": [],
   "source": [
    "print('\\n'.join(vietnam_links))\n",
    "# URL khách sạn vietnam trong file hotels_links.csv (file chung, được append trong quá trình crawl phân vùng)"
   ]
  },
  {
   "cell_type": "code",
   "execution_count": null,
   "id": "1f66a55f",
   "metadata": {},
   "outputs": [],
   "source": [
    "vietnam_hotels_links = []\n",
    "\n",
    "# append data trong file vietnam_hotels_links.csv vào list vietnam_hotels_links\n",
    "with open('vietnam_hotels_links.csv', 'r', encoding='utf-8') as f:\n",
    "    reader = csv.reader(f)\n",
    "    next(reader)  # Bỏ dòng tiêu đề\n",
    "    for row in reader:\n",
    "        if row:\n",
    "            vietnam_hotels_links.append(row[0])"
   ]
  },
  {
   "cell_type": "code",
   "execution_count": null,
   "id": "865f7132",
   "metadata": {},
   "outputs": [],
   "source": [
    "print('\\n'.join(vietnam_hotels_links))\n",
    "# URL khách sạn trong file vietnam_hotels_links.csv (được crawl ở II.3.)"
   ]
  },
  {
   "cell_type": "code",
   "execution_count": null,
   "id": "7c2eff6f",
   "metadata": {},
   "outputs": [],
   "source": [
    "# Chuyển vietnam_hotels_links thành set để kiểm tra nhanh\n",
    "existing = set(vietnam_hotels_links)\n",
    "\n",
    "# Thêm từng phần tử trong vietnam_links nếu chưa có trong vietnam_hotels_links\n",
    "for item in vietnam_links:\n",
    "    if item not in existing:\n",
    "        vietnam_hotels_links.append(item)\n",
    "        existing.add(item)  # cập nhật vào set để tránh kiểm tra trùng lại"
   ]
  },
  {
   "cell_type": "markdown",
   "id": "b4c0ce34",
   "metadata": {},
   "source": [
    "### 2. Crawl các thuộc tính"
   ]
  },
  {
   "cell_type": "code",
   "execution_count": null,
   "id": "9b64e18f",
   "metadata": {},
   "outputs": [],
   "source": [
    "vietnam_hotels_links = []\n",
    "\n",
    "# append data trong file vietnam_hotels_links.csv vào list vietnam_hotels_links\n",
    "with open('vietnam_hotels_links.csv', 'r', encoding='utf-8') as f:\n",
    "    reader = csv.reader(f)\n",
    "    next(reader)  # Bỏ dòng tiêu đề\n",
    "    for row in reader:\n",
    "        if row:\n",
    "            vietnam_hotels_links.append(row[0])\n",
    "\n",
    "# URL bắt đầu và kết thúc (chỉ lấy của vietnam)\n",
    "start_url = \"https://www.traveloka.com/vi-vn/hotel/vietnam/sun-villa-tam-dao-9000001072334\"  # dòng thứ x file vietnam_hotels_links.csv\n",
    "end_url   = \"https://www.traveloka.com/vi-vn/hotel/vietnam/bavet-yongyuan-casino--hotel-9000005623932\" # dòng thứ y file vietnam_hotels_links.csv\n",
    "\n",
    "# Xác định vị trí index bắt đầu và kết thúc\n",
    "try:\n",
    "    start_index = vietnam_hotels_links.index(start_url)\n",
    "    end_index = vietnam_hotels_links.index(end_url)\n",
    "except ValueError as e:\n",
    "    print(\"Không tìm thấy URL trong danh sách:\", e)\n",
    "    exit()\n",
    "\n",
    "# Giới hạn danh sách cần crawl\n",
    "vn_hotels_links_to_crawl = vietnam_hotels_links[start_index:end_index + 1]"
   ]
  },
  {
   "cell_type": "code",
   "execution_count": null,
   "id": "1b6423c5",
   "metadata": {},
   "outputs": [],
   "source": [
    "print('\\n'.join(vn_hotels_links_to_crawl)) # URL khách sạn trong file vietnam_hotels_links.csv"
   ]
  },
  {
   "cell_type": "code",
   "execution_count": null,
   "id": "c86a259b",
   "metadata": {},
   "outputs": [],
   "source": [
    "def crawl_hotels_vn(url):\n",
    "    options = Options()\n",
    "    options.add_argument(\"--headless\")  # Chạy ẩn trình duyệt\n",
    "    driver = webdriver.Chrome(options=options)\n",
    "    driver.get(url)\n",
    "    time.sleep(random.uniform(3,7))\n",
    "    soup_hotel_vn = BeautifulSoup(driver.page_source, 'html.parser')\n",
    "    driver.quit()\n",
    "\n",
    "# url khách sạn\n",
    "    hotel_url = url\n",
    "    \n",
    "# tên khách sạn\n",
    "    hotel_name = soup_hotel_vn.find('h1', {'data-testid': 'display_name_label'}).text\n",
    "\n",
    "# giá chung  data-testid=\"overview_cheapest_price\"\n",
    "    overview_price_div = soup_hotel_vn.find('div', {'data-testid': 'overview_cheapest_price'})  # Dùng find() thay vì find_all()\n",
    "    if overview_price_div:\n",
    "        overview_price = overview_price_div.text\n",
    "    else:\n",
    "        overview_price = None\n",
    "\n",
    "# địa chỉ\n",
    "    address_wrapper = soup_hotel_vn.find('div', {'data-testid': 'summary-location'})\n",
    "    address = address_wrapper.find('div', class_='css-901oao css-cens5h r-13awgt0 r-uh8wd5 r-1b43r93 r-majxgm r-rjixqe r-fdjqy7').text\n",
    "\n",
    "# điểm đánh giá chung\n",
    "    overall_rating_wrapper = soup_hotel_vn.find('h2', {'data-testid': 'review-data-title'})\n",
    "    overall_rating = overall_rating_wrapper.find_next('div', class_='css-901oao r-1i6uqv8 r-uh8wd5 r-s67bdx r-b88u0q r-1ptu69t r-q4m81j')\n",
    "    if overall_rating:\n",
    "        overall_rating = overall_rating.text\n",
    "\n",
    "# điểm đánh giá 5 khía cạnh (vệ sinh, tiện nghi phòng, đồ ăn, vị trí, dịch vụ và tiện ích)\n",
    "    rating_blocks = soup_hotel_vn.find_all('div', class_='css-1dbjc4n r-29ag51')\n",
    "    texts = []\n",
    "    if rating_blocks:\n",
    "        for block in rating_blocks:\n",
    "            texts.append(block.find('h3').text)\n",
    "    else: texts = [None] *5\n",
    "\n",
    "    cleanliness, room_comfort, meal, location, service_facilites = texts[:5]\n",
    "\n",
    "# tiện ích chính & khoảng cách đến trung tâm thành phố & thời gian nhận/trả phòng\n",
    "    section = soup_hotel_vn.find('div', {'data-testid': 'section-policy'})\n",
    "    rows = section.find_all('tr')\n",
    "    main_facilities = checkin_checkout_time = distance_to_downtown = None\n",
    "    for row in rows:\n",
    "        tds = row.find_all('td')\n",
    "        label = tds[0].get_text(strip=True)\n",
    "        if label == \"Tiện ích chung\":\n",
    "            main_facilities = tds[1].get_text(strip=True)\n",
    "        elif label == \"Thời gian nhận/trả phòng\":\n",
    "            checkin_checkout_time = tds[1].get_text(strip=True)\n",
    "        elif label == \"Khoảng cách đến trung tâm thành phố\":\n",
    "            distance_to_downtown = tds[1].get_text(strip=True)\n",
    "\n",
    "    return [hotel_url, hotel_name, overview_price, address, overall_rating, cleanliness, room_comfort, meal, location, service_facilites, main_facilities, checkin_checkout_time, distance_to_downtown]\n"
   ]
  },
  {
   "cell_type": "code",
   "execution_count": null,
   "id": "d707ef43",
   "metadata": {},
   "outputs": [],
   "source": [
    "hotel_url, hotel_name, overview_price, address, overall_rating, cleanliness, room_comfort  = [], [], [], [], [], [], []\n",
    "meal, location, service_facilites, main_facilities, checkin_checkout_time, distance_to_downtown = [], [], [], [], [], []\n",
    "\n",
    "for url in tqdm(vn_hotels_links_to_crawl):\n",
    "    try:\n",
    "        hotels_vn_data = crawl_hotels_vn(url)\n",
    "        hotel_url.append(url)\n",
    "        hotel_name.append(hotels_vn_data[1])\n",
    "        overview_price.append(hotels_vn_data[2])\n",
    "        address.append(hotels_vn_data[3])\n",
    "        overall_rating.append(hotels_vn_data[4])\n",
    "        cleanliness.append(hotels_vn_data[5])\n",
    "        room_comfort.append(hotels_vn_data[6])\n",
    "        meal.append(hotels_vn_data[7])\n",
    "        location.append(hotels_vn_data[8])\n",
    "        service_facilites.append(hotels_vn_data[9])\n",
    "        main_facilities.append(hotels_vn_data[10])\n",
    "        checkin_checkout_time.append(hotels_vn_data[11])\n",
    "        distance_to_downtown.append(hotels_vn_data[12])\n",
    "    except Exception as e:\n",
    "        print(f\"Lỗi ở {url}: {e}\")\n"
   ]
  },
  {
   "cell_type": "code",
   "execution_count": null,
   "id": "411ce314",
   "metadata": {},
   "outputs": [
    {
     "data": {
      "text/html": [
       "<div>\n",
       "<style scoped>\n",
       "    .dataframe tbody tr th:only-of-type {\n",
       "        vertical-align: middle;\n",
       "    }\n",
       "\n",
       "    .dataframe tbody tr th {\n",
       "        vertical-align: top;\n",
       "    }\n",
       "\n",
       "    .dataframe thead th {\n",
       "        text-align: right;\n",
       "    }\n",
       "</style>\n",
       "<table border=\"1\" class=\"dataframe\">\n",
       "  <thead>\n",
       "    <tr style=\"text-align: right;\">\n",
       "      <th></th>\n",
       "      <th>Hotel URL</th>\n",
       "      <th>Hotel Name</th>\n",
       "      <th>Overview Price</th>\n",
       "      <th>Address</th>\n",
       "      <th>Overall Rating</th>\n",
       "      <th>Cleanliness</th>\n",
       "      <th>Room Comfort</th>\n",
       "      <th>Meal</th>\n",
       "      <th>Location</th>\n",
       "      <th>Service Facilities</th>\n",
       "      <th>Main Facilities</th>\n",
       "      <th>Checkin-Checkout Time</th>\n",
       "      <th>Distance to Downtown</th>\n",
       "    </tr>\n",
       "  </thead>\n",
       "  <tbody>\n",
       "    <tr>\n",
       "      <th>0</th>\n",
       "      <td>https://www.traveloka.com/vi-vn/hotel/vietnam/...</td>\n",
       "      <td>Sun Villa Tam Dao</td>\n",
       "      <td>None</td>\n",
       "      <td>Sun Villa, Khu 2, Thị trấn Tam Đảo , Tam Dao T...</td>\n",
       "      <td>7,7</td>\n",
       "      <td>7,2</td>\n",
       "      <td>7,4</td>\n",
       "      <td>6,8</td>\n",
       "      <td>7,7</td>\n",
       "      <td>7,2</td>\n",
       "      <td>Máy lạnh, Nhà hàng, Hồ bơi, Lễ tân 24h, Chỗ đậ...</td>\n",
       "      <td>Từ 14:00 - Trước 12:00</td>\n",
       "      <td>419 m</td>\n",
       "    </tr>\n",
       "    <tr>\n",
       "      <th>1</th>\n",
       "      <td>https://www.traveloka.com/vi-vn/hotel/vietnam/...</td>\n",
       "      <td>Ngan Ha Hotel Tam Dao</td>\n",
       "      <td>None</td>\n",
       "      <td>Khu 1, Tam Dao Township, Huyện Tam Đảo, Tỉnh ...</td>\n",
       "      <td>8,4</td>\n",
       "      <td>8,5</td>\n",
       "      <td>8,4</td>\n",
       "      <td>7,8</td>\n",
       "      <td>7,9</td>\n",
       "      <td>8,1</td>\n",
       "      <td>Máy lạnh, Nhà hàng, Lễ tân 24h, Chỗ đậu xe, Th...</td>\n",
       "      <td>Từ 14:00 - Trước 12:00</td>\n",
       "      <td>311 m</td>\n",
       "    </tr>\n",
       "  </tbody>\n",
       "</table>\n",
       "</div>"
      ],
      "text/plain": [
       "                                           Hotel URL             Hotel Name  \\\n",
       "0  https://www.traveloka.com/vi-vn/hotel/vietnam/...      Sun Villa Tam Dao   \n",
       "1  https://www.traveloka.com/vi-vn/hotel/vietnam/...  Ngan Ha Hotel Tam Dao   \n",
       "\n",
       "  Overview Price                                            Address  \\\n",
       "0           None  Sun Villa, Khu 2, Thị trấn Tam Đảo , Tam Dao T...   \n",
       "1           None  Khu 1, Tam Dao Township, Huyện Tam Đảo, Tỉnh ...   \n",
       "\n",
       "  Overall Rating Cleanliness Room Comfort Meal Location Service Facilities  \\\n",
       "0            7,7         7,2          7,4  6,8      7,7                7,2   \n",
       "1            8,4         8,5          8,4  7,8      7,9                8,1   \n",
       "\n",
       "                                     Main Facilities   Checkin-Checkout Time  \\\n",
       "0  Máy lạnh, Nhà hàng, Hồ bơi, Lễ tân 24h, Chỗ đậ...  Từ 14:00 - Trước 12:00   \n",
       "1  Máy lạnh, Nhà hàng, Lễ tân 24h, Chỗ đậu xe, Th...  Từ 14:00 - Trước 12:00   \n",
       "\n",
       "  Distance to Downtown  \n",
       "0                419 m  \n",
       "1                311 m  "
      ]
     },
     "execution_count": 119,
     "metadata": {},
     "output_type": "execute_result"
    }
   ],
   "source": [
    "dataset_vn_hotels = pd.DataFrame({'Hotel URL': hotel_url,\n",
    "                                  'Hotel Name': hotel_name,\n",
    "                                  'Overview Price': overview_price,\n",
    "                                  'Address': address,\n",
    "                                  'Overall Rating': overall_rating,\n",
    "                                  'Cleanliness': cleanliness,\n",
    "                                  'Room Comfort':  room_comfort,\n",
    "                                  'Meal':  meal,\n",
    "                                  'Location':  location,\n",
    "                                  'Service Facilities': service_facilites,\n",
    "                                  'Main Facilities': main_facilities,\n",
    "                                  'Checkin-Checkout Time': checkin_checkout_time,\n",
    "                                  'Distance to Downtown': distance_to_downtown\n",
    "                                  })\n",
    "dataset_vn_hotels"
   ]
  },
  {
   "cell_type": "code",
   "execution_count": null,
   "id": "7fd99504",
   "metadata": {},
   "outputs": [
    {
     "name": "stdout",
     "output_type": "stream",
     "text": [
      "['https://www.traveloka.com/vi-vn/hotel/vietnam/ngan-ha-hotel-tam-dao-3000020014093', 'Ngan Ha Hotel Tam Dao', None, 'Khu 1, Tam Dao Township, Huyện Tam Đảo, Tỉnh Vĩnh Phúc, Việt Nam, 280000', '8,4', '8,5', '8,4', '7,8', '7,9', '8,1', 'Máy lạnh, Nhà hàng, Lễ tân 24h, Chỗ đậu xe, Thang máy, WiFi', 'Từ 14:00 - Trước 12:00', '311 m']\n"
     ]
    }
   ],
   "source": [
    "print(hotels_vn_data) # URL khách sạn trong file vietnam_hotels_links.csv"
   ]
  },
  {
   "cell_type": "markdown",
   "id": "480f2b5b",
   "metadata": {},
   "source": [
    "Không thể lấy được thuộc tính overview_price của các khách sạn Traveloka vì phải giải capcha cho mỗi lần load trang \\\n",
    "Nhóm chuyển hướng chọn crawl các khách sạn ở trang Booking.com"
   ]
  }
 ],
 "metadata": {
  "kernelspec": {
   "display_name": "base",
   "language": "python",
   "name": "python3"
  },
  "language_info": {
   "codemirror_mode": {
    "name": "ipython",
    "version": 3
   },
   "file_extension": ".py",
   "mimetype": "text/x-python",
   "name": "python",
   "nbconvert_exporter": "python",
   "pygments_lexer": "ipython3",
   "version": "3.12.4"
  }
 },
 "nbformat": 4,
 "nbformat_minor": 5
}
