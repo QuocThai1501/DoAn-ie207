{
 "cells": [
  {
   "cell_type": "markdown",
   "id": "2e4bcfc0",
   "metadata": {},
   "source": [
    "## Import thư viện"
   ]
  },
  {
   "cell_type": "code",
   "execution_count": 2,
   "id": "86de2d76",
   "metadata": {},
   "outputs": [],
   "source": [
    "import pandas as pd\n",
    "import numpy as np\n",
    "from faker import Faker\n",
    "import random\n",
    "from datetime import datetime, timedelta"
   ]
  },
  {
   "cell_type": "markdown",
   "id": "d91b147d",
   "metadata": {},
   "source": [
    "## Kiểm tra các thuộc tính độc lập của cột Popular Facilities"
   ]
  },
  {
   "cell_type": "code",
   "execution_count": 3,
   "id": "4e830f7d",
   "metadata": {},
   "outputs": [
    {
     "name": "stdout",
     "output_type": "stream",
     "text": [
      "[' WiFi tốt miễn phí (21 Mbps)', ' Nhà hàng', 'Lễ tân 24 giờ', ' Sân thượng / hiên', 'WiFi nhanh miễn phí (63 Mbps)', 'Dịch vụ đưa đón sân bay (miễn phí)', 'Điều hòa nhiệt độ', ' WiFi cơ bản miễn phí (12 Mbps)', 'WiFi cơ bản miễn phí (15 Mbps)', ' WiFi nhanh miễn phí (195 Mbps)', ' Chỗ đỗ xe', 'WiFi nhanh miễn phí (86 Mbps)', ' Tiện nghi BBQ', '3 hồ bơi', ' WiFi tốt miễn phí (47 Mbps)', 'Hồ bơi  - ngoài trời (dành cho trẻ em)(Tạm thời ngừng hoạt động)', ' WiFi cơ bản miễn phí (9 Mbps)', ' WiFi tốt miễn phí (35 Mbps)', ' WiFi nhanh miễn phí (122 Mbps)', ' WiFi nhanh miễn phí (85 Mbps)', 'Trung tâm thể dục', ' Điều hòa nhiệt độ', ' WiFi nhanh miễn phí (80 Mbps)', ' WiFi tốt miễn phí (46 Mbps)', ' WiFi nhanh miễn phí (405 Mbps)', ' WiFi nhanh miễn phí (257 Mbps)', ' WiFi nhanh miễn phí (291 Mbps)', ' Bữa sáng xuất sắc', ' WiFi nhanh miễn phí (63 Mbps)', ' 7 nhà hàng', ' Khu vực cho phép hút thuốc', ' WiFi nhanh miễn phí (57 Mbps)', ' WiFi cơ bản miễn phí (14 Mbps)', ' WiFi nhanh miễn phí (61 Mbps)', 'WiFi cơ bản miễn phí (11 Mbps)', 'Nhà hàng', ' WiFi nhanh miễn phí (128 Mbps)', 'WiFi nhanh miễn phí (228 Mbps)', 'WiFi tốt miễn phí (33 Mbps)', ' Bữa sáng tuyệt vời', ' WiFi nhanh miễn phí (68 Mbps)', ' WiFi tốt miễn phí (31 Mbps)', 'Phòng không hút thuốc', ' WiFi nhanh miễn phí (91 Mbps)', ' WiFi nhanh miễn phí (78 Mbps)', ' WiFi nhanh miễn phí (77 Mbps)', ' WiFi nhanh miễn phí (65 Mbps)', ' WiFi nhanh miễn phí (106 Mbps)', ' 3 nhà hàng', ' WiFi nhanh miễn phí (88 Mbps)', 'Hồ bơi ngoài trời', ' Sân vườn', '2 hồ bơi (1 đang hoạt động)', ' Dịch vụ đưa đón sân bay (miễn phí)', ' WiFi nhanh miễn phí (325 Mbps)', ' WiFi nhanh miễn phí (147 Mbps)', ' WiFi nhanh miễn phí (241 Mbps)', ' Chỗ đỗ xe miễn phí', 'Hồ bơi  - ngoài trời (dành cho trẻ em)', 'WiFi tốt miễn phí (32 Mbps)', 'Chỗ đậu xe (trong khuôn viên)', ' WiFi tốt miễn phí (30 Mbps)', ' Trung tâm thể dục', ' WiFi nhanh miễn phí (202 Mbps)', ' WiFi nhanh miễn phí (110 Mbps)', ' WiFi nhanh miễn phí (288 Mbps)', ' WiFi nhanh miễn phí (156 Mbps)', ' WiFi cơ bản miễn phí (11 Mbps)', ' WiFi nhanh miễn phí (280 Mbps)', ' WiFi nhanh miễn phí (171 Mbps)', ' WiFi nhanh miễn phí (139 Mbps)', ' WiFi nhanh miễn phí (153 Mbps)', ' WiFi tốt miễn phí (20 Mbps)', ' WiFi nhanh miễn phí (52 Mbps)', ' WiFi nhanh miễn phí (56 Mbps)', 'WiFi nhanh miễn phí (211 Mbps)', ' WiFi tốt miễn phí (44 Mbps)', 'WiFi tốt miễn phí (22 Mbps)', ' WiFi tốt miễn phí (17 Mbps)', ' WiFi nhanh miễn phí (126 Mbps)', ' WiFi nhanh miễn phí (123 Mbps)', ' WiFi nhanh miễn phí (155 Mbps)', ' WiFi cơ bản miễn phí (13 Mbps)', ' WiFi nhanh miễn phí (125 Mbps)', ' WiFi nhanh miễn phí (476 Mbps)', 'WiFi nhanh miễn phí (146 Mbps)', ' WiFi nhanh miễn phí (157 Mbps)', 'Chỗ đỗ xe', ' WiFi nhanh miễn phí (170 Mbps)', 'WiFi nhanh miễn phí (441 Mbps)', ' WiFi nhanh miễn phí (92 Mbps)', 'WiFi cơ bản miễn phí (9 Mbps)', ' WiFi nhanh miễn phí (148 Mbps)', ' WiFi nhanh miễn phí (58 Mbps)', ' Bữa sáng tốt', ' WiFi nhanh miễn phí (221 Mbps)', 'Chỗ đỗ xe miễn phí', ' WiFi', ' WiFi nhanh miễn phí (296 Mbps)', ' WiFi nhanh miễn phí (436 Mbps)', ' WiFi nhanh miễn phí (55 Mbps)', 'Bữa sáng', ' WiFi nhanh miễn phí (64 Mbps)', ' WiFi nhanh miễn phí (94 Mbps)', 'WiFi tốt miễn phí (23 Mbps)', ' WiFi nhanh miễn phí (81 Mbps)', ' WiFi nhanh miễn phí (136 Mbps)', 'WiFi nhanh miễn phí (127 Mbps)', ' WiFi nhanh miễn phí (75 Mbps)', 'WiFi cơ bản miễn phí (6 Mbps)', '5 hồ bơi', 'WiFi nhanh miễn phí (60 Mbps)', ' WiFi nhanh miễn phí (402 Mbps)', ' WiFi nhanh miễn phí (694 Mbps)', ' WiFi nhanh miễn phí (67 Mbps)', ' WiFi tốt miễn phí (45 Mbps)', ' WiFi nhanh miễn phí (89 Mbps)', 'WiFi nhanh miễn phí (64 Mbps)', ' Lễ tân 24 giờ', ' WiFi tốt miễn phí (23 Mbps)', '12 hồ bơi', ' WiFi nhanh miễn phí (236 Mbps)', ' WiFi tốt miễn phí (24 Mbps)', ' WiFi nhanh miễn phí (54 Mbps)', ' WiFi nhanh miễn phí (118 Mbps)', ' WiFi tốt miễn phí (41 Mbps)', 'WiFi nhanh miễn phí (76 Mbps)', ' WiFi nhanh miễn phí (105 Mbps)', ' Bữa sáng', 'WiFi nhanh miễn phí (53 Mbps)', ' WiFi nhanh miễn phí (175 Mbps)', ' Bữa sáng tuyệt hảo', ' WiFi nhanh miễn phí (96 Mbps)', 'WiFi tốt miễn phí (34 Mbps)', 'WiFi nhanh miễn phí (282 Mbps)', ' WiFi tốt miễn phí (38 Mbps)', ' WiFi tốt miễn phí (49 Mbps)', ' Tiện nghi cho khách khuyết tật', ' WiFi cơ bản miễn phí (15 Mbps)', 'WiFi nhanh miễn phí (169 Mbps)', '4 hồ bơi', 'WiFi tốt miễn phí (26 Mbps)', ' WiFi nhanh miễn phí (102 Mbps)', ' WiFi cơ bản miễn phí (7 Mbps)', 'WiFi miễn phí', ' WiFi nhanh miễn phí (60 Mbps)', 'WiFi nhanh miễn phí (280 Mbps)', ' 4 nhà hàng', ' WiFi nhanh miễn phí (521 Mbps)', ' Dọn phòng hàng ngày', ' WiFi nhanh miễn phí (371 Mbps)', ' WiFi nhanh miễn phí (181 Mbps)', ' WiFi nhanh miễn phí (216 Mbps)', ' 5 nhà hàng', ' WiFi nhanh miễn phí (66 Mbps)', 'Máy pha trà/cà phê trong tất cả các phòng', 'WiFi tốt miễn phí (27 Mbps)', ' WiFi nhanh miễn phí (70 Mbps)', 'WiFi cơ bản miễn phí (14 Mbps)', ' WiFi cơ bản miễn phí (10 Mbps)', ' WiFi nhanh miễn phí (116 Mbps)', ' WiFi nhanh miễn phí (59 Mbps)', 'Chỗ đậu xe riêng', 'WiFi', ' WiFi nhanh miễn phí (53 Mbps)', ' WiFi có ở mọi khu vực', ' WiFi tốt miễn phí (26 Mbps)', ' Có cung cấp nôi/cũi theo yêu cầu', ' WiFi nhanh miễn phí (165 Mbps)', ' WiFi nhanh miễn phí (161 Mbps)', ' WiFi tốt miễn phí (34 Mbps)', ' WiFi nhanh miễn phí (74 Mbps)', 'WiFi nhanh miễn phí (94 Mbps)', '2 hồ bơi', ' WiFi nhanh miễn phí (130 Mbps)', 'WiFi nhanh miễn phí (111 Mbps)', ' WiFi nhanh miễn phí (256 Mbps)', ' Khu vực bãi tắm riêng', 'WiFi nhanh miễn phí (467 Mbps)', ' Xe đưa đón sân bay', ' WiFi nhanh miễn phí (127 Mbps)', ' WiFi nhanh miễn phí (176 Mbps)', ' WiFi nhanh miễn phí (324 Mbps)', 'WiFi tốt miễn phí (29 Mbps)', ' WiFi tốt miễn phí (32 Mbps)', ' WiFi tốt miễn phí (33 Mbps)', ' WiFi nhanh miễn phí (83 Mbps)', ' WiFi nhanh miễn phí (146 Mbps)', ' Hệ thống sưởi', ' WiFi nhanh miễn phí (76 Mbps)', ' WiFi nhanh miễn phí (95 Mbps)', 'Dịch vụ phòng', 'Xe đưa đón sân bay', ' Có nôi/cũi miễn phí khi khách yêu cầu', 'Giáp biển', 'WiFi nhanh miễn phí (70 Mbps)', ' WiFi nhanh miễn phí (174 Mbps)', ' WiFi tốt miễn phí (50 Mbps)', '7 hồ bơi', ' Luôn có nôi (cũi) miễn phí', ' WiFi cơ bản miễn phí (6 Mbps)', ' WiFi nhanh miễn phí (100 Mbps)', 'WiFi nhanh miễn phí (93 Mbps)', ' WiFi nhanh miễn phí (72 Mbps)', ' WiFi nhanh miễn phí (343 Mbps)', ' Giáp biển', ' WiFi nhanh miễn phí (273 Mbps)', ' WiFi nhanh miễn phí (62 Mbps)', 'WiFi nhanh miễn phí (54 Mbps)', 'WiFi nhanh miễn phí (83 Mbps)', 'WiFi nhanh miễn phí (52 Mbps)', 'Hồ bơi trong nhà', ' WiFi nhanh miễn phí (120 Mbps)', 'WiFi nhanh miễn phí (82 Mbps)', ' WiFi nhanh miễn phí (137 Mbps)', ' Chỗ đậu xe (trong khuôn viên)', ' WiFi nhanh miễn phí (160 Mbps)', ' WiFi nhanh miễn phí (99 Mbps)', 'Có nôi/cũi miễn phí khi khách yêu cầu', 'WiFi nhanh miễn phí (56 Mbps)', 'WiFi nhanh miễn phí (71 Mbps)', ' WiFi nhanh miễn phí (297 Mbps)', ' WiFi nhanh miễn phí (119 Mbps)', ' Dịch vụ phòng', ' WiFi nhanh miễn phí (131 Mbps)', 'Hồ bơi ngoài trời(Tạm thời ngừng hoạt động)', ' Bữa sáng rất tốt', ' WiFi nhanh miễn phí (143 Mbps)', ' WiFi tốt miễn phí (19 Mbps)', ' WiFi tốt miễn phí (37 Mbps)', ' WiFi nhanh miễn phí (51 Mbps)', ' WiFi nhanh miễn phí (159 Mbps)', ' WiFi nhanh miễn phí (272 Mbps)', 'WiFi nhanh miễn phí (51 Mbps)', ' WiFi tốt miễn phí (18 Mbps)', ' Máy pha trà/cà phê trong tất cả các phòng', ' WiFi nhanh miễn phí (390 Mbps)', 'WiFi tốt miễn phí (47 Mbps)', ' WiFi tốt miễn phí (16 Mbps)', 'WiFi nhanh miễn phí (177 Mbps)', 'WiFi tốt miễn phí (30 Mbps)', ' Phòng gia đình', ' Trung tâm Spa & chăm sóc sức khoẻ', ' WiFi nhanh miễn phí (69 Mbps)', ' WiFi nhanh miễn phí (245 Mbps)', ' WiFi nhanh miễn phí (134 Mbps)', 'WiFi nhanh miễn phí (168 Mbps)', 'WiFi tốt miễn phí (16 Mbps)', ' WiFi nhanh miễn phí (97 Mbps)', ' WiFi miễn phí (4 Mbps)', 'WiFi nhanh miễn phí (205 Mbps)', 'WiFi cơ bản miễn phí (13 Mbps)', 'WiFi nhanh miễn phí (159 Mbps)', ' WiFi nhanh miễn phí (290 Mbps)', ' WiFi nhanh miễn phí (348 Mbps)', ' WiFi nhanh miễn phí (112 Mbps)', ' WiFi nhanh miễn phí (329 Mbps)', ' WiFi nhanh miễn phí (276 Mbps)', ' WiFi tốt miễn phí (25 Mbps)', ' Phòng không hút thuốc', ' Thang máy', ' Giặt ủi', ' Quầy bar', ' WiFi cơ bản miễn phí (8 Mbps)', 'WiFi nhanh miễn phí (59 Mbps)', ' WiFi tốt miễn phí (27 Mbps)', 'Hồ bơi  - trong nhà (dành cho trẻ em)', 'WiFi tốt miễn phí (36 Mbps)', ' WiFi nhanh miễn phí (103 Mbps)', ' WiFi tốt miễn phí (42 Mbps)', ' WiFi nhanh miễn phí (306 Mbps)', ' WiFi nhanh miễn phí (133 Mbps)', 'WiFi nhanh miễn phí (216 Mbps)', ' WiFi nhanh miễn phí (71 Mbps)', 'WiFi tốt miễn phí (43 Mbps)', ' WiFi nhanh miễn phí (109 Mbps)', ' WiFi nhanh miễn phí (86 Mbps)', ' WiFi nhanh miễn phí (180 Mbps)', ' WiFi miễn phí (5 Mbps)', ' WiFi nhanh miễn phí (101 Mbps)', 'Phòng gia đình', ' WiFi nhanh miễn phí (242 Mbps)', 'WiFi nhanh miễn phí (167 Mbps)', ' WiFi nhanh miễn phí (149 Mbps)', '6 hồ bơi', ' WiFi nhanh miễn phí (163 Mbps)', 'WiFi nhanh miễn phí (299 Mbps)', 'WiFi tốt miễn phí (50 Mbps)', ' WiFi nhanh miễn phí (87 Mbps)', ' WiFi tốt miễn phí (48 Mbps)', 'WiFi tốt miễn phí (28 Mbps)', 'WiFi nhanh miễn phí (75 Mbps)', 'WiFi nhanh miễn phí (173 Mbps)', ' WiFi miễn phí (3 Mbps)', ' WiFi nhanh miễn phí (253 Mbps)', ' WiFi tốt miễn phí (40 Mbps)', ' WiFi nhanh miễn phí (284 Mbps)', 'Hồ bơi', 'WiFi tốt miễn phí (21 Mbps)', ' WiFi nhanh miễn phí (250 Mbps)', ' WiFi tốt miễn phí (39 Mbps)', 'WiFi nhanh miễn phí (81 Mbps)', ' WiFi nhanh miễn phí (225 Mbps)', 'WiFi tốt miễn phí (24 Mbps)', ' WiFi tốt miễn phí (43 Mbps)', ' WiFi nhanh miễn phí (200 Mbps)', ' WiFi tốt miễn phí (22 Mbps)', ' WiFi nhanh miễn phí (144 Mbps)', 'WiFi nhanh miễn phí (276 Mbps)', ' WiFi nhanh miễn phí (135 Mbps)', ' WiFi nhanh miễn phí (198 Mbps)', ' WiFi tốt miễn phí (28 Mbps)', ' WiFi tốt miễn phí (36 Mbps)', ' WiFi nhanh miễn phí (187 Mbps)', ' Luôn có nôi (cũi)', ' WiFi nhanh miễn phí (108 Mbps)', ' WiFi nhanh miễn phí (211 Mbps)', ' WiFi tốt miễn phí (29 Mbps)', ' WiFi nhanh miễn phí (332 Mbps)', ' WiFi miễn phí', ' WiFi nhanh miễn phí (334 Mbps)', ' WiFi nhanh miễn phí (138 Mbps)', ' WiFi nhanh miễn phí (79 Mbps)', 'WiFi nhanh miễn phí (72 Mbps)', 'WiFi tốt miễn phí (49 Mbps)', ' WiFi nhanh miễn phí (275 Mbps)', 'WiFi tốt miễn phí (37 Mbps)', ' WiFi nhanh miễn phí (277 Mbps)', ' WiFi nhanh miễn phí (93 Mbps)', ' Bồn tắm nóng/bể sục (Jacuzzi)', ' WiFi nhanh miễn phí (132 Mbps)', ' Chỗ đậu xe riêng', ' WiFi nhanh miễn phí (84 Mbps)', '8 hồ bơi', ' WiFi nhanh miễn phí (107 Mbps)', ' 2 nhà hàng']\n"
     ]
    }
   ],
   "source": [
    "# Đọc dữ liệu\n",
    "df = pd.read_csv('hotels_data_final.csv')\n",
    "\n",
    "# Bỏ giá trị NaN (nếu có), nối thành chuỗi lớn\n",
    "all_facilities = df['Popular Facilities'].dropna().str.cat(sep=',')\n",
    "\n",
    "# Tách từng phần theo dấu phẩy\n",
    "facilities_list =  all_facilities.split(',')\n",
    "\n",
    "# Loại trùng lặp bằng cách đưa về set rồi lại thành list\n",
    "unique_facilities = list(set(facilities_list))\n",
    "\n",
    "# In ra hoặc dùng tùy mục đích\n",
    "print(unique_facilities)"
   ]
  },
  {
   "cell_type": "markdown",
   "id": "1517c4fb",
   "metadata": {},
   "source": [
    "## Kiểm tra khoảng giá của khách sạn (min, max, average)"
   ]
  },
  {
   "cell_type": "code",
   "execution_count": 4,
   "id": "76194928",
   "metadata": {},
   "outputs": [
    {
     "name": "stdout",
     "output_type": "stream",
     "text": [
      "Giá thấp nhất: 42,500 VND\n",
      "Giá cao nhất: 134,036,659 VND\n",
      "Giá trung bình: 1,724,017 VND\n",
      "\n",
      "=> Hàng có giá thấp nhất:\n",
      "                                               Hotel URL  \\\n",
      "13792  https://www.booking.com/hotel/vn/homestay-pho-...   \n",
      "\n",
      "                        Hotel Name Overview Price  \\\n",
      "13792  Homestay phố núi suối giàng     42.500 VND   \n",
      "\n",
      "                                                 Address  Overall Rating  \\\n",
      "13792  Km9 đường suối giàng sơn thịnh văn chấn yên bá...             8.7   \n",
      "\n",
      "       Staff  Facilities  Cleanliness  Comfort  Value for Money  Location  \\\n",
      "13792    9.4         8.7          9.3      9.4              9.1       8.9   \n",
      "\n",
      "       Free Wifi                                 Popular Facilities  \\\n",
      "13792        8.0  Chỗ đỗ xe miễn phí, 2 nhà hàng, Dịch vụ ...   \n",
      "\n",
      "         Checkin Time     Checkout Time Province  Parsed_Price  \n",
      "13792  Phục vụ 24 giờ  Từ 01:00 - 14:00  Yên Bái         42500   \n",
      "\n",
      "=> Hàng có giá cao nhất:\n",
      "                                              Hotel URL  \\\n",
      "3606  https://www.booking.com/hotel/vn/intercontinen...   \n",
      "\n",
      "                                             Hotel Name   Overview Price  \\\n",
      "3606  InterContinental Danang Sun Peninsula Resort b...  134.036.659 VND   \n",
      "\n",
      "                                             Address  Overall Rating  Staff  \\\n",
      "3606  Bai Sac, Son Tra Peninsula, Đà Nẵng, Việt Nam             9.2    9.6   \n",
      "\n",
      "      Facilities  Cleanliness  Comfort  Value for Money  Location  Free Wifi  \\\n",
      "3606         9.4          9.5      9.5              8.6       9.2        9.0   \n",
      "\n",
      "                                     Popular Facilities      Checkin Time  \\\n",
      "3606  2 hồ bơi, Xe đưa đón sân bay, Phòng không hu...  Từ 15:00 - 16:00   \n",
      "\n",
      "         Checkout Time Province  Parsed_Price  \n",
      "3606  Từ 11:30 - 12:00  Đà Nẵng     134036659  \n"
     ]
    }
   ],
   "source": [
    "# Đọc dữ liệu\n",
    "df = pd.read_csv('hotels_data_final.csv')\n",
    "\n",
    "# Hàm chuyển đổi giá tiền từ chuỗi về số\n",
    "def parse_price(price_str):\n",
    "    if pd.isna(price_str):\n",
    "        return None\n",
    "    price_str = price_str.replace(' VND', '').replace('.', '')\n",
    "    try:\n",
    "        return int(price_str)\n",
    "    except:\n",
    "        return None\n",
    "\n",
    "# Thêm cột giá đã chuyển đổi\n",
    "df['Parsed_Price'] = df['Overview Price'].apply(parse_price)\n",
    "\n",
    "# Bỏ giá trị NaN\n",
    "valid_df = df.dropna(subset=['Parsed_Price'])\n",
    "\n",
    "# Tính toán\n",
    "min_price = valid_df['Parsed_Price'].min()\n",
    "max_price = valid_df['Parsed_Price'].max()\n",
    "mean_price = valid_df['Parsed_Price'].mean()\n",
    "\n",
    "# In kết quả tổng quan\n",
    "print(f\"Giá thấp nhất: {min_price:,} VND\")\n",
    "print(f\"Giá cao nhất: {max_price:,} VND\")\n",
    "print(f\"Giá trung bình: {mean_price:,.0f} VND\\n\")\n",
    "\n",
    "# In toàn bộ hàng có giá thấp nhất\n",
    "print(\"=> Hàng có giá thấp nhất:\")\n",
    "print(valid_df[valid_df['Parsed_Price'] == min_price], \"\\n\")\n",
    "\n",
    "# In toàn bộ hàng có giá cao nhất\n",
    "print(\"=> Hàng có giá cao nhất:\")\n",
    "print(valid_df[valid_df['Parsed_Price'] == max_price])"
   ]
  },
  {
   "cell_type": "markdown",
   "id": "8434bf77",
   "metadata": {},
   "source": [
    "## Hàm tạo sinh dữ liệu khách tham quan với Faker dựa trên đặc điểm các trường của danh sách khách sạn"
   ]
  },
  {
   "cell_type": "code",
   "execution_count": null,
   "id": "b4d133f5",
   "metadata": {},
   "outputs": [],
   "source": [
    "# Thiết lập Faker cho tiếng Việt\n",
    "fake = Faker('vi_VN')\n",
    "random.seed(42)\n",
    "np.random.seed(42)\n",
    "\n",
    "# Hàm loại bỏ các danh xưng (prefix) phổ biến khỏi tên người\n",
    "def clean_name(name):\n",
    "    prefixes = [\"Ông \", \"Bà \", \"Cô \", \"Chú \", \"Bác \", \"Anh \", \"Chị \", \"Em \",\"Quý cô \",\"Quý ông \", \"Ngài \"]\n",
    "    for prefix in prefixes:\n",
    "        if name.startswith(prefix):\n",
    "            return name[len(prefix):]\n",
    "    return name\n",
    "\n",
    "locations = [\n",
    "    \"An Giang\", \"Bà Rịa - Vũng Tàu\", \"Bạc Liêu\", \"Bắc Giang\", \"Bắc Kạn\", \"Bắc Ninh\",\n",
    "    \"Bến Tre\", \"Bình Dương\", \"Bình Định\", \"Bình Phước\", \"Bình Thuận\", \"Cà Mau\",\n",
    "    \"Cao Bằng\", \"Cần Thơ\", \"Đà Nẵng\", \"Đắk Lắk\", \"Đắk Nông\", \"Điện Biên\", \"Đồng Nai\",\n",
    "    \"Đồng Tháp\", \"Gia Lai\", \"Hà Giang\", \"Hà Nam\", \"Hà Nội\", \"Hà Tĩnh\", \"Hải Dương\",\n",
    "    \"Hải Phòng\", \"Hậu Giang\", \"Hòa Bình\", \"Hưng Yên\", \"Khánh Hòa\", \"Kiên Giang\",\n",
    "    \"Kon Tum\", \"Lai Châu\", \"Lâm Đồng\", \"Lạng Sơn\", \"Lào Cai\", \"Long An\", \"Nam Định\",\n",
    "    \"Nghệ An\", \"Ninh Bình\", \"Ninh Thuận\", \"Phú Thọ\", \"Phú Yên\", \"Quảng Bình\",\n",
    "    \"Quảng Nam\", \"Quảng Ngãi\", \"Quảng Ninh\", \"Quảng Trị\", \"Sóc Trăng\", \"Sơn La\",\n",
    "    \"Tây Ninh\", \"Thái Bình\", \"Thái Nguyên\", \"Thanh Hóa\", \"Thừa Thiên Huế\", \"Tiền Giang\",\n",
    "    \"TP. Hồ Chí Minh\", \"Trà Vinh\", \"Tuyên Quang\", \"Vĩnh Long\", \"Vĩnh Phúc\", \"Yên Bái\"\n",
    "]\n",
    "\n",
    "facilities = list(set([\n",
    "    \"WiFi miễn phí\", \"Phòng không hút thuốc\", \"Điều hòa nhiệt độ\", \n",
    "    \"Nôi/cũi theo yêu cầu\", \"Dọn phòng hàng ngày\", \"Hồ bơi ngoài trời\", \n",
    "    \"Hồ bơi trong nhà\", \"Nhà hàng\", \"Chỗ đỗ xe\", \"Bữa sáng\", \n",
    "    \"Thang máy\", \"Xe đưa đón sân bay\", \"Dịch vụ phòng\", \"Quầy bar\",\n",
    "    \"Phòng gia đình\", \"Giặt ủi\", \"Lễ tân 24 giờ\", \"Tiện nghi cho khách khuyết tật\",\n",
    "    \"Máy pha trà/cà phê\", \"Khu vực bãi tắm riêng\", \"Sân vườn\", \"Tiện nghi BBQ\",\n",
    "    \"Trung tâm Spa & chăm sóc sức khoẻ\", \"Sân thượng / hiên\", \"Trung tâm thể dục\"\n",
    "]))\n",
    "\n",
    "special_requests = list(set([\n",
    "    \"Phòng yên tĩnh\", \"Hướng biển\", \"Giường phụ\", \"Tầng cao\", \"View đẹp\", \n",
    "    \"Không cần dọn phòng\", \"Nôi em bé\", \"Phòng không cửa sổ\", \"Giáp biển\",\n",
    "    \"Khu vực cho phép hút thuốc\", \"Chỗ đậu xe riêng\"\n",
    "]))\n",
    "\n",
    "# Hàm tạo budget ngẫu nhiên\n",
    "def generate_budget():\n",
    "    # Chọn giá thấp nhất trong khoảng 50.000 -> 18.000.000 VND (để max không vượt quá 20 triệu)\n",
    "    min_budget = random.randint(5, 1800) * 10000\n",
    "\n",
    "    # Tăng thêm từ 10.000 đến tối đa 2.000.000 VND so với min_budget\n",
    "    max_budget = min_budget + random.randint(1, 200) * 10000  # +10.000 → +2.000.000\n",
    "\n",
    "    # Trả về chuỗi định dạng: \"xxx.xxx - yyy.yyy VND\"\n",
    "    return f\"{min_budget:,} - {max_budget:,} VND\".replace(\",\", \".\")\n",
    "\n",
    "# Hàm tạo thời gian checkin/checkout\n",
    "def generate_time(preference):\n",
    "    if preference == \"checkin\":\n",
    "        hour = random.randint(11, 15)\n",
    "    else:\n",
    "        hour = random.randint(9, 12)\n",
    "    minute = random.choice([\"00\", \"30\"])\n",
    "    return f\"{hour}:{minute}\"\n",
    "\n",
    "# Hàm tạo requirements và facilities\n",
    "def generate_requirements():\n",
    "    num = random.randint(1, 4)\n",
    "    selected = random.sample(facilities, num)\n",
    "    return \", \".join(selected)\n",
    "\n",
    "# Tạo dữ liệu\n",
    "data = []\n",
    "for i in range(1, 10001):\n",
    "    record = {\n",
    "        \"id\": i,\n",
    "        \"name\": clean_name(fake.name()),\n",
    "        \"budget_range\": generate_budget(),\n",
    "        \"preferred_location\": random.choice(locations),\n",
    "        \"requirements\": generate_requirements(),\n",
    "        \"checkin_time_preference\": f\"{generate_time('checkin')} - {random.randint(13, 18)}:00\",\n",
    "        \"checkout_time_preference\": f\"{generate_time('checkout')} - 12:00\",\n",
    "        \"preferred_facilities\": generate_requirements(),\n",
    "        \"special_requests\": random.choice(special_requests) if random.random() > 0.3 else \"\"\n",
    "    }\n",
    "    data.append(record)\n",
    "\n",
    "# Tạo DataFrame\n",
    "df = pd.DataFrame(data)"
   ]
  },
  {
   "cell_type": "code",
   "execution_count": 6,
   "id": "daa0aade",
   "metadata": {},
   "outputs": [
    {
     "name": "stdout",
     "output_type": "stream",
     "text": [
      "Đã tạo xong dataset 10,000 khách du lịch!\n"
     ]
    }
   ],
   "source": [
    "# Lưu thành file CSV\n",
    "df.to_csv(\"tourist_dataset_10k.csv\", index=False, encoding='utf-8-sig')\n",
    "print(\"Đã tạo xong dataset 10,000 khách du lịch!\")"
   ]
  }
 ],
 "metadata": {
  "kernelspec": {
   "display_name": "Python 3",
   "language": "python",
   "name": "python3"
  },
  "language_info": {
   "codemirror_mode": {
    "name": "ipython",
    "version": 3
   },
   "file_extension": ".py",
   "mimetype": "text/x-python",
   "name": "python",
   "nbconvert_exporter": "python",
   "pygments_lexer": "ipython3",
   "version": "3.13.0"
  }
 },
 "nbformat": 4,
 "nbformat_minor": 5
}
